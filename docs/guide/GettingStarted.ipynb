{
 "cells": [
  {
   "cell_type": "markdown",
   "metadata": {},
   "source": [
    "# Getting Started\n",
    "\n",
    "This notebook gets you started with a brief nDCG evaluation with LensKit for Python.\n",
    "\n",
    "This notebook is also available on [Google Collaboratory](https://colab.research.google.com/drive/1ym040cKkQf85epu80VtIkMXy3LpfYQky?usp=sharing) and [nbviewer](https://nbviewer.jupyter.org/github/lenskit/lkpy/blob/master/doc/GettingStarted.ipynb)."
   ]
  },
  {
   "cell_type": "markdown",
   "metadata": {},
   "source": [
    "## Setup\n",
    "\n",
    "We first import the LensKit components we need:"
   ]
  },
  {
   "cell_type": "code",
   "execution_count": null,
   "metadata": {},
   "outputs": [],
   "source": [
    "from lenskit.batch import recommend\n",
    "from lenskit.metrics import RunAnalysis, NDCG, RBP, RecipRank\n",
    "from lenskit.splitting import crossfold_users, SampleFrac\n",
    "from lenskit.als import BiasedMF\n",
    "from lenskit.knn import ItemKNNScorer \n",
    "from lenskit.data import load_movielens, ItemListCollection, UserIDKey\n",
    "from lenskit.pipeline import topn_pipeline"
   ]
  },
  {
   "cell_type": "markdown",
   "metadata": {},
   "source": [
    "And Pandas is very useful, as is Seaborn for plotting:"
   ]
  },
  {
   "cell_type": "code",
   "execution_count": 12,
   "metadata": {},
   "outputs": [],
   "source": [
    "import pandas as pd\n",
    "import seaborn as sns"
   ]
  },
  {
   "cell_type": "markdown",
   "metadata": {},
   "source": [
    "The `pyprojroot` package makes it easy to find input data:"
   ]
  },
  {
   "cell_type": "code",
   "execution_count": 3,
   "metadata": {},
   "outputs": [],
   "source": [
    "from pyprojroot.here import here"
   ]
  },
  {
   "cell_type": "markdown",
   "metadata": {},
   "source": [
    "## Loading Data\n",
    "\n",
    "We're going to use the ML-100K data set:"
   ]
  },
  {
   "cell_type": "code",
   "execution_count": 4,
   "metadata": {},
   "outputs": [
    {
     "data": {
      "text/html": [
       "<div>\n",
       "<style scoped>\n",
       "    .dataframe tbody tr th:only-of-type {\n",
       "        vertical-align: middle;\n",
       "    }\n",
       "\n",
       "    .dataframe tbody tr th {\n",
       "        vertical-align: top;\n",
       "    }\n",
       "\n",
       "    .dataframe thead th {\n",
       "        text-align: right;\n",
       "    }\n",
       "</style>\n",
       "<table border=\"1\" class=\"dataframe\">\n",
       "  <thead>\n",
       "    <tr style=\"text-align: right;\">\n",
       "      <th></th>\n",
       "      <th>user_id</th>\n",
       "      <th>item_id</th>\n",
       "      <th>rating</th>\n",
       "      <th>timestamp</th>\n",
       "    </tr>\n",
       "  </thead>\n",
       "  <tbody>\n",
       "    <tr>\n",
       "      <th>0</th>\n",
       "      <td>1</td>\n",
       "      <td>1</td>\n",
       "      <td>5.0</td>\n",
       "      <td>874965758</td>\n",
       "    </tr>\n",
       "    <tr>\n",
       "      <th>1</th>\n",
       "      <td>1</td>\n",
       "      <td>2</td>\n",
       "      <td>3.0</td>\n",
       "      <td>876893171</td>\n",
       "    </tr>\n",
       "    <tr>\n",
       "      <th>2</th>\n",
       "      <td>1</td>\n",
       "      <td>3</td>\n",
       "      <td>4.0</td>\n",
       "      <td>878542960</td>\n",
       "    </tr>\n",
       "    <tr>\n",
       "      <th>3</th>\n",
       "      <td>1</td>\n",
       "      <td>4</td>\n",
       "      <td>3.0</td>\n",
       "      <td>876893119</td>\n",
       "    </tr>\n",
       "    <tr>\n",
       "      <th>4</th>\n",
       "      <td>1</td>\n",
       "      <td>5</td>\n",
       "      <td>3.0</td>\n",
       "      <td>889751712</td>\n",
       "    </tr>\n",
       "  </tbody>\n",
       "</table>\n",
       "</div>"
      ],
      "text/plain": [
       "   user_id  item_id  rating  timestamp\n",
       "0        1        1     5.0  874965758\n",
       "1        1        2     3.0  876893171\n",
       "2        1        3     4.0  878542960\n",
       "3        1        4     3.0  876893119\n",
       "4        1        5     3.0  889751712"
      ]
     },
     "execution_count": 4,
     "metadata": {},
     "output_type": "execute_result"
    }
   ],
   "source": [
    "ml100k = load_movielens(here('data/ml-100k.zip'))\n",
    "ml100k.interaction_log('pandas', original_ids=True).head()"
   ]
  },
  {
   "cell_type": "markdown",
   "metadata": {},
   "source": [
    "## Defining Recommenders\n",
    "\n",
    "Let's set up two scoring models:"
   ]
  },
  {
   "cell_type": "code",
   "execution_count": 5,
   "metadata": {},
   "outputs": [],
   "source": [
    "model_ii = ItemKNNScorer(20)\n",
    "model_als = BiasedMF(50)"
   ]
  },
  {
   "cell_type": "markdown",
   "metadata": {},
   "source": [
    "For each of these, we also need to make a :ref:`pipeline <pipeline>`:"
   ]
  },
  {
   "cell_type": "code",
   "execution_count": 6,
   "metadata": {},
   "outputs": [],
   "source": [
    "pipe_ii = topn_pipeline(model_ii)\n",
    "pipe_als = topn_pipeline(model_als)"
   ]
  },
  {
   "cell_type": "markdown",
   "metadata": {},
   "source": [
    "## Running the Evaluation\n",
    "\n",
    "In LensKit, our evaluation proceeds in 2 steps:\n",
    "\n",
    "1. Generate recommendations\n",
    "2. Measure them\n",
    "\n",
    "If memory is a concern, we can measure while generating, but we will not do that for now.\n",
    "\n",
    "Let's start by creating and collecting the recommendations; we will collect all of them into a single `ItemListCollection`:"
   ]
  },
  {
   "cell_type": "code",
   "execution_count": 7,
   "metadata": {},
   "outputs": [
    {
     "name": "stderr",
     "output_type": "stream",
     "text": [
      "/Users/mde48/LensKit/lkpy/lenskit/lenskit/als/_explicit.py:91: UserWarning: Sparse CSR tensor support is in beta state. If you miss a functionality in the sparse tensor support, please submit a feature request to https://github.com/pytorch/pytorch/issues. (Triggered internally at /Users/runner/miniforge3/conda-bld/libtorch_1728232278409/work/aten/src/ATen/SparseCsrTensorImpl.cpp:55.)\n",
      "  rmat = rmat.to_sparse_csr()\n",
      "/Users/mde48/LensKit/lkpy/lenskit/lenskit/pipeline/types.py:149: TypecheckWarning: cannot type-check object of type <class 'numpy.int32'> against generic\n",
      "  warnings.warn(\n",
      "/Users/mde48/LensKit/lkpy/lenskit/lenskit/pipeline/types.py:149: TypecheckWarning: cannot type-check object of type <class 'numpy.int32'> against generic\n",
      "  warnings.warn(\n",
      "/Users/mde48/LensKit/lkpy/lenskit/lenskit/pipeline/types.py:149: TypecheckWarning: cannot type-check object of type <class 'numpy.int32'> against generic\n",
      "  warnings.warn(\n",
      "/Users/mde48/LensKit/lkpy/lenskit/lenskit/pipeline/types.py:149: TypecheckWarning: cannot type-check object of type <class 'numpy.int32'> against generic\n",
      "  warnings.warn(\n",
      "/Users/mde48/LensKit/lkpy/lenskit/lenskit/pipeline/types.py:149: TypecheckWarning: cannot type-check object of type <class 'numpy.int32'> against generic\n",
      "  warnings.warn(\n",
      "/Users/mde48/LensKit/lkpy/lenskit/lenskit/pipeline/types.py:149: TypecheckWarning: cannot type-check object of type <class 'numpy.int32'> against generic\n",
      "  warnings.warn(\n",
      "/Users/mde48/LensKit/lkpy/lenskit/lenskit/pipeline/types.py:149: TypecheckWarning: cannot type-check object of type <class 'numpy.int32'> against generic\n",
      "  warnings.warn(\n",
      "/Users/mde48/LensKit/lkpy/lenskit/lenskit/pipeline/types.py:149: TypecheckWarning: cannot type-check object of type <class 'numpy.int32'> against generic\n",
      "  warnings.warn(\n",
      "/Users/mde48/LensKit/lkpy/lenskit/lenskit/pipeline/types.py:149: TypecheckWarning: cannot type-check object of type <class 'numpy.int32'> against generic\n",
      "  warnings.warn(\n",
      "/Users/mde48/LensKit/lkpy/lenskit/lenskit/pipeline/types.py:149: TypecheckWarning: cannot type-check object of type <class 'numpy.int32'> against generic\n",
      "  warnings.warn(\n",
      "/Users/mde48/LensKit/lkpy/lenskit/lenskit/pipeline/types.py:149: TypecheckWarning: cannot type-check object of type <class 'numpy.int32'> against generic\n",
      "  warnings.warn(\n",
      "/Users/mde48/LensKit/lkpy/lenskit/lenskit/pipeline/types.py:149: TypecheckWarning: cannot type-check object of type <class 'numpy.int32'> against generic\n",
      "  warnings.warn(\n",
      "/Users/mde48/LensKit/lkpy/lenskit/lenskit/pipeline/types.py:149: TypecheckWarning: cannot type-check object of type <class 'numpy.int32'> against generic\n",
      "  warnings.warn(\n",
      "/Users/mde48/LensKit/lkpy/lenskit/lenskit/pipeline/types.py:149: TypecheckWarning: cannot type-check object of type <class 'numpy.int32'> against generic\n",
      "  warnings.warn(\n",
      "/Users/mde48/LensKit/lkpy/lenskit/lenskit/pipeline/types.py:149: TypecheckWarning: cannot type-check object of type <class 'numpy.int32'> against generic\n",
      "  warnings.warn(\n",
      "/Users/mde48/LensKit/lkpy/lenskit/lenskit/pipeline/types.py:149: TypecheckWarning: cannot type-check object of type <class 'numpy.int32'> against generic\n",
      "  warnings.warn(\n",
      "/Users/mde48/LensKit/lkpy/lenskit/lenskit/pipeline/types.py:149: TypecheckWarning: cannot type-check object of type <class 'numpy.int32'> against generic\n",
      "  warnings.warn(\n",
      "/Users/mde48/LensKit/lkpy/lenskit/lenskit/pipeline/types.py:149: TypecheckWarning: cannot type-check object of type <class 'numpy.int32'> against generic\n",
      "  warnings.warn(\n",
      "/Users/mde48/LensKit/lkpy/lenskit/lenskit/pipeline/types.py:149: TypecheckWarning: cannot type-check object of type <class 'numpy.int32'> against generic\n",
      "  warnings.warn(\n",
      "/Users/mde48/LensKit/lkpy/lenskit/lenskit/pipeline/types.py:149: TypecheckWarning: cannot type-check object of type <class 'numpy.int32'> against generic\n",
      "  warnings.warn(\n",
      "/Users/mde48/LensKit/lkpy/lenskit/lenskit/pipeline/types.py:149: TypecheckWarning: cannot type-check object of type <class 'numpy.int32'> against generic\n",
      "  warnings.warn(\n",
      "/Users/mde48/LensKit/lkpy/lenskit/lenskit/pipeline/types.py:149: TypecheckWarning: cannot type-check object of type <class 'numpy.int32'> against generic\n",
      "  warnings.warn(\n",
      "/Users/mde48/LensKit/lkpy/lenskit/lenskit/pipeline/types.py:149: TypecheckWarning: cannot type-check object of type <class 'numpy.int32'> against generic\n",
      "  warnings.warn(\n",
      "/Users/mde48/LensKit/lkpy/lenskit/lenskit/pipeline/types.py:149: TypecheckWarning: cannot type-check object of type <class 'numpy.int32'> against generic\n",
      "  warnings.warn(\n",
      "/Users/mde48/LensKit/lkpy/lenskit/lenskit/pipeline/types.py:149: TypecheckWarning: cannot type-check object of type <class 'numpy.int32'> against generic\n",
      "  warnings.warn(\n",
      "/Users/mde48/LensKit/lkpy/lenskit/lenskit/pipeline/types.py:149: TypecheckWarning: cannot type-check object of type <class 'numpy.int32'> against generic\n",
      "  warnings.warn(\n",
      "/Users/mde48/LensKit/lkpy/lenskit/lenskit/pipeline/types.py:149: TypecheckWarning: cannot type-check object of type <class 'numpy.int32'> against generic\n",
      "  warnings.warn(\n",
      "/Users/mde48/LensKit/lkpy/lenskit/lenskit/pipeline/types.py:149: TypecheckWarning: cannot type-check object of type <class 'numpy.int32'> against generic\n",
      "  warnings.warn(\n",
      "/Users/mde48/LensKit/lkpy/lenskit/lenskit/pipeline/types.py:149: TypecheckWarning: cannot type-check object of type <class 'numpy.int32'> against generic\n",
      "  warnings.warn(\n",
      "/Users/mde48/LensKit/lkpy/lenskit/lenskit/pipeline/types.py:149: TypecheckWarning: cannot type-check object of type <class 'numpy.int32'> against generic\n",
      "  warnings.warn(\n",
      "/Users/mde48/LensKit/lkpy/lenskit/lenskit/pipeline/types.py:149: TypecheckWarning: cannot type-check object of type <class 'numpy.int32'> against generic\n",
      "  warnings.warn(\n",
      "/Users/mde48/LensKit/lkpy/lenskit/lenskit/pipeline/types.py:149: TypecheckWarning: cannot type-check object of type <class 'numpy.int32'> against generic\n",
      "  warnings.warn(\n",
      "/Users/mde48/LensKit/lkpy/lenskit/lenskit/pipeline/types.py:149: TypecheckWarning: cannot type-check object of type <class 'numpy.int32'> against generic\n",
      "  warnings.warn(\n",
      "/Users/mde48/LensKit/lkpy/lenskit/lenskit/pipeline/types.py:149: TypecheckWarning: cannot type-check object of type <class 'numpy.int32'> against generic\n",
      "  warnings.warn(\n",
      "/Users/mde48/LensKit/lkpy/lenskit/lenskit/pipeline/types.py:149: TypecheckWarning: cannot type-check object of type <class 'numpy.int32'> against generic\n",
      "  warnings.warn(\n"
     ]
    }
   ],
   "source": [
    "all_test = ItemListCollection(UserIDKey)\n",
    "ii_recs = ItemListCollection(UserIDKey)\n",
    "als_recs = ItemListCollection(UserIDKey)\n",
    "\n",
    "for split in crossfold_users(ml100k, 5, SampleFrac(0.2)):\n",
    "    # collect the test data\n",
    "    all_test.add_from(split.test)\n",
    "    \n",
    "    # train the pipeline, cloning first so a fresh pipeline for each split\n",
    "    fit_als = pipe_als.clone()\n",
    "    fit_als.train(split.train)\n",
    "    # generate recs\n",
    "    als_recs.add_from(recommend(fit_als, split.test.keys(), 100))\n",
    "\n",
    "    # do the same for item-item\n",
    "    fit_ii = pipe_ii.clone()\n",
    "    fit_ii.train(split.train)\n",
    "    ii_recs.add_from(recommend(fit_ii, split.test.keys(), 100))"
   ]
  },
  {
   "cell_type": "markdown",
   "metadata": {},
   "source": [
    "## Measuring Recommendations\n",
    "\n",
    "We analyze our recommendation lists with a `RunAnalysis` and some metrics."
   ]
  },
  {
   "cell_type": "code",
   "execution_count": 8,
   "metadata": {},
   "outputs": [
    {
     "data": {
      "text/html": [
       "<div>\n",
       "<style scoped>\n",
       "    .dataframe tbody tr th:only-of-type {\n",
       "        vertical-align: middle;\n",
       "    }\n",
       "\n",
       "    .dataframe tbody tr th {\n",
       "        vertical-align: top;\n",
       "    }\n",
       "\n",
       "    .dataframe thead th {\n",
       "        text-align: right;\n",
       "    }\n",
       "</style>\n",
       "<table border=\"1\" class=\"dataframe\">\n",
       "  <thead>\n",
       "    <tr style=\"text-align: right;\">\n",
       "      <th></th>\n",
       "      <th>mean</th>\n",
       "      <th>median</th>\n",
       "      <th>std</th>\n",
       "    </tr>\n",
       "    <tr>\n",
       "      <th>metric</th>\n",
       "      <th></th>\n",
       "      <th></th>\n",
       "      <th></th>\n",
       "    </tr>\n",
       "  </thead>\n",
       "  <tbody>\n",
       "    <tr>\n",
       "      <th>NDCG</th>\n",
       "      <td>0.094840</td>\n",
       "      <td>7.227523e-02</td>\n",
       "      <td>0.091161</td>\n",
       "    </tr>\n",
       "    <tr>\n",
       "      <th>RBP</th>\n",
       "      <td>0.035599</td>\n",
       "      <td>1.490116e-08</td>\n",
       "      <td>0.117246</td>\n",
       "    </tr>\n",
       "    <tr>\n",
       "      <th>RecipRank</th>\n",
       "      <td>0.107921</td>\n",
       "      <td>3.846154e-02</td>\n",
       "      <td>0.189325</td>\n",
       "    </tr>\n",
       "  </tbody>\n",
       "</table>\n",
       "</div>"
      ],
      "text/plain": [
       "               mean        median       std\n",
       "metric                                     \n",
       "NDCG       0.094840  7.227523e-02  0.091161\n",
       "RBP        0.035599  1.490116e-08  0.117246\n",
       "RecipRank  0.107921  3.846154e-02  0.189325"
      ]
     },
     "execution_count": 8,
     "metadata": {},
     "output_type": "execute_result"
    }
   ],
   "source": [
    "ran = RunAnalysis()\n",
    "ran.add_metric(NDCG())\n",
    "ran.add_metric(RBP())\n",
    "ran.add_metric(RecipRank())\n",
    "als_results = ran.compute(als_recs, all_test)\n",
    "ii_results = ran.compute(ii_recs, all_test)\n",
    "ii_results.list_summary()"
   ]
  },
  {
   "cell_type": "markdown",
   "metadata": {},
   "source": [
    "Now we have nDCG values!  We can combine results together to make combined charts."
   ]
  },
  {
   "cell_type": "code",
   "execution_count": 9,
   "metadata": {},
   "outputs": [
    {
     "data": {
      "text/html": [
       "<div>\n",
       "<style scoped>\n",
       "    .dataframe tbody tr th:only-of-type {\n",
       "        vertical-align: middle;\n",
       "    }\n",
       "\n",
       "    .dataframe tbody tr th {\n",
       "        vertical-align: top;\n",
       "    }\n",
       "\n",
       "    .dataframe thead th {\n",
       "        text-align: right;\n",
       "    }\n",
       "</style>\n",
       "<table border=\"1\" class=\"dataframe\">\n",
       "  <thead>\n",
       "    <tr style=\"text-align: right;\">\n",
       "      <th></th>\n",
       "      <th>NDCG</th>\n",
       "      <th>RBP</th>\n",
       "      <th>RecipRank</th>\n",
       "    </tr>\n",
       "    <tr>\n",
       "      <th>Model</th>\n",
       "      <th></th>\n",
       "      <th></th>\n",
       "      <th></th>\n",
       "    </tr>\n",
       "  </thead>\n",
       "  <tbody>\n",
       "    <tr>\n",
       "      <th>ALS</th>\n",
       "      <td>0.128488</td>\n",
       "      <td>0.091866</td>\n",
       "      <td>0.201931</td>\n",
       "    </tr>\n",
       "    <tr>\n",
       "      <th>IKNN</th>\n",
       "      <td>0.094840</td>\n",
       "      <td>0.035599</td>\n",
       "      <td>0.107921</td>\n",
       "    </tr>\n",
       "  </tbody>\n",
       "</table>\n",
       "</div>"
      ],
      "text/plain": [
       "           NDCG       RBP  RecipRank\n",
       "Model                               \n",
       "ALS    0.128488  0.091866   0.201931\n",
       "IKNN   0.094840  0.035599   0.107921"
      ]
     },
     "execution_count": 9,
     "metadata": {},
     "output_type": "execute_result"
    }
   ],
   "source": [
    "all_list_metrics = pd.concat({\n",
    "    'ALS': als_results.list_metrics(),\n",
    "    'IKNN': ii_results.list_metrics(),\n",
    "}, names=['Model'])\n",
    "all_list_metrics.groupby('Model').mean()"
   ]
  },
  {
   "cell_type": "code",
   "execution_count": 16,
   "metadata": {},
   "outputs": [
    {
     "data": {
      "text/plain": [
       "<seaborn.axisgrid.FacetGrid at 0x17f9dbc80>"
      ]
     },
     "execution_count": 16,
     "metadata": {},
     "output_type": "execute_result"
    },
    {
     "data": {
      "image/png": "[encoded data removed]",
      "text/plain": [
       "<Figure size 511.111x500 with 1 Axes>"
      ]
     },
     "metadata": {},
     "output_type": "display_data"
    }
   ],
   "source": [
    "sns.catplot(all_list_metrics.reset_index(), x='Model', y='NDCG', kind='bar')"
   ]
  }
 ],
 "metadata": {
  "kernelspec": {
   "display_name": "dev-full",
   "language": "python",
   "name": "python3"
  },
  "language_info": {
   "codemirror_mode": {
    "name": "ipython",
    "version": 3
   },
   "file_extension": ".py",
   "mimetype": "text/x-python",
   "name": "python",
   "nbconvert_exporter": "python",
   "pygments_lexer": "ipython3",
   "version": "3.12.7"
  }
 },
 "nbformat": 4,
 "nbformat_minor": 2
}
